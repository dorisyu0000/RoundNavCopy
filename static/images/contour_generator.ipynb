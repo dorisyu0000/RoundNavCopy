{
 "cells": [
  {
   "cell_type": "code",
   "execution_count": 13,
   "metadata": {},
   "outputs": [
    {
     "data": {
      "text/plain": [
       "['contour/pattern_1.png',\n",
       " 'contour/pattern_2.png',\n",
       " 'contour/pattern_3.png',\n",
       " 'contour/pattern_4.png',\n",
       " 'contour/pattern_5.png',\n",
       " 'contour/pattern_6.png',\n",
       " 'contour/pattern_7.png',\n",
       " 'contour/pattern_8.png']"
      ]
     },
     "execution_count": 13,
     "metadata": {},
     "output_type": "execute_result"
    }
   ],
   "source": [
    "# Re-importing necessary libraries and redefining the function since the code execution state was reset\n",
    "\n",
    "import numpy as np\n",
    "import os\n",
    "import matplotlib.pyplot as plt\n",
    "from matplotlib.backends.backend_agg import FigureCanvasAgg as FigureCanvas\n",
    "\n",
    "def RFPattern(x, y, C, s, r0, A, w, phi):\n",
    "    \"\"\"\n",
    "    Generate a radial frequency pattern with the given parameters.\n",
    "    \n",
    "    Args:\n",
    "    x, y: Cartesian coordinates\n",
    "    C: Pattern contrast\n",
    "    s: Determines the peak spatial frequency (fpeak = sqrt(2)/(pi*s))\n",
    "    r0: Mean radius (where r0 > 4*s)\n",
    "    A: Radial modulation amplitude (where A < 1)\n",
    "    w: Radial frequency (integer valued)\n",
    "    phi: Angular phase\n",
    "\n",
    "    Returns:\n",
    "    D4: Radial frequency pattern\n",
    "    \"\"\"\n",
    "    # Convert cartesian coordinates to polar coordinates\n",
    "    theta = np.arctan2(y, x)  # Polar angle\n",
    "    r = np.sqrt(x**2 + y**2)  # Radius\n",
    "\n",
    "    # Radius of the deformed pattern in radians\n",
    "    ro = r0 * (1 + A * np.sin(w * theta + phi))\n",
    "\n",
    "    # Radial fourth derivative of a Gaussian\n",
    "    D4 = C * (1 - 4 * ((r - ro) / s)**2 + 4/3 * ((r - ro) / s)**4) * np.exp(-((r - ro) / s)**2)\n",
    "    \n",
    "    return D4\n",
    "\n",
    "def save_individual_patterns(params, filename_base, x, y):\n",
    "    for i, (C, s, r0, A, w, phi) in enumerate(params, start=1):\n",
    "        D4 = RFPattern(x, y, C, s, r0, A, w, phi)\n",
    "        \n",
    "        # Set up the figure without axes\n",
    "        fig, ax = plt.subplots(figsize=(2.5, 2.5))\n",
    "        ax.imshow(D4, cmap='gray')\n",
    "        ax.axis('off')\n",
    "        plt.subplots_adjust(wspace=0, hspace=0)\n",
    "        \n",
    "        # Save the figure\n",
    "        filename = f'{filename_base}_{i}.png'\n",
    "        plt.savefig(filename, bbox_inches='tight', pad_inches=0)\n",
    "        plt.close()\n",
    "        yield filename  # Yield the filename to be able to download it later\n",
    "\n",
    "# Parameters for different shapes\n",
    "shapes_params = [\n",
    "    # (C, s, r0, A, w, phi)\n",
    "    (1, 1, 6, 0.40, 3, 0),\n",
    "    (1, 1, 6, 0.30, 3, 0), \n",
    "    (1, 1, 6, 0.20, 3, 0), \n",
    "    (1, 1, 6, 0.10, 3, 0), \n",
    "    (1, 1, 6, 0.10, 5, 0), \n",
    "    (1, 1, 6, 0.20, 5, 0), \n",
    "    (1, 1, 6, 0.30, 5, 0), \n",
    "    (1, 1, 6, 0.40, 5, 0) \n",
    "]\n",
    "\n",
    "# Directory and base filename for the PNG files\n",
    "output_dir = 'contour/'\n",
    "filename_base = output_dir + 'pattern'\n",
    "\n",
    "# Generate the mesh grid\n",
    "x, y = np.meshgrid(np.linspace(-10, 10, 200), np.linspace(-10, 10, 200))\n",
    "if not os.path.isdir(output_dir ):\n",
    "    os.makedirs(output_dir )\n",
    "\n",
    "# Generate and save each pattern\n",
    "pattern_files = list(save_individual_patterns(shapes_params, filename_base, x, y))\n",
    "pattern_files"
   ]
  }
 ],
 "metadata": {
  "kernelspec": {
   "display_name": "env",
   "language": "python",
   "name": "python3"
  },
  "language_info": {
   "codemirror_mode": {
    "name": "ipython",
    "version": 3
   },
   "file_extension": ".py",
   "mimetype": "text/x-python",
   "name": "python",
   "nbconvert_exporter": "python",
   "pygments_lexer": "ipython3",
   "version": "3.10.2"
  }
 },
 "nbformat": 4,
 "nbformat_minor": 2
}
